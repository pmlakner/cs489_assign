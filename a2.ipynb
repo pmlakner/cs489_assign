{
 "cells": [
  {
   "cell_type": "code",
   "execution_count": 29,
   "metadata": {
    "collapsed": true
   },
   "outputs": [],
   "source": [
    "%matplotlib inline"
   ]
  },
  {
   "cell_type": "markdown",
   "metadata": {},
   "source": [
    "# Excercise 1 - Implementing k-nearest neighbors"
   ]
  },
  {
   "cell_type": "markdown",
   "metadata": {},
   "source": [
    "Load data sets"
   ]
  },
  {
   "cell_type": "code",
   "execution_count": 1,
   "metadata": {
    "collapsed": true
   },
   "outputs": [],
   "source": [
    "import numpy as np\n",
    "X_train = np.genfromtxt('MNIST_X_train.csv', delimiter=',')\n",
    "y_train = np.genfromtxt('MNIST_y_train.csv', delimiter=',')\n",
    "\n",
    "X_test = np.genfromtxt('MNIST_X_test.csv', delimiter=',')\n",
    "y_test = np.genfromtxt('MNIST_y_test.csv', delimiter=',')"
   ]
  },
  {
   "cell_type": "markdown",
   "metadata": {},
   "source": [
    "Even with recyclying dist computation and breaking it up into a fold at a time, it still takes too much time and memory on my machine. Limiting the data set using train_size and taking a random sample of rows."
   ]
  },
  {
   "cell_type": "code",
   "execution_count": 12,
   "metadata": {
    "collapsed": false
   },
   "outputs": [],
   "source": [
    "train_size = int(0.5*X_train.shape[0])\n",
    "idx = np.random.choice(np.arange(len(X_train)), train_size, replace=False)\n",
    "X_train = X_train[idx]\n",
    "y_train = y_train[idx]"
   ]
  },
  {
   "cell_type": "markdown",
   "metadata": {},
   "source": [
    "### K-Nearest Neighbours classifier \n",
    "All operations using only matrix computations. Uses argpartition to select k_smallest for each set in O(n) time. It accomplishes this by arbitrarily guessing a pivot value for k and makes n comparisons to place elements smaller than pivot to left, and larger to the right. If k < arg(pivot) - recurse on left, if k > arg(pivot) - recurse on right, if k == arg(pivot) we have our partition. Since we only recurse on one side we can achieve on average O(n) complexity. In worst case this can be O(n^2) so if the size of the partitions is not decreasing at a fast enough rate the algorithm uses mean-of-means to pick a suitable pivot value in O(n), so overall worst case becomes O(n). "
   ]
  },
  {
   "cell_type": "code",
   "execution_count": 13,
   "metadata": {
    "collapsed": false
   },
   "outputs": [],
   "source": [
    "from scipy.stats import mode\n",
    "from scipy.spatial import distance\n",
    "def KNearestNeighbourClassifier(x_train, y_train, z_test, k, dists=None):\n",
    "    if (dists is None):\n",
    "        dists = distance.cdist(z_test, x_train, 'euclidean')\n",
    "    k_smallest = y_train[np.argpartition(dists, k, axis=1)][:,:k] # take k smallest labels from partitioning each dists along row \n",
    "    pred = mode(k_smallest, axis=1)[0].flatten()\n",
    "    return pred, dists # recycle dists computation"
   ]
  },
  {
   "cell_type": "markdown",
   "metadata": {},
   "source": [
    "### Compute the error rates for k = [1, 5, 10 ... 50] using 10 fold cross-validation\n",
    "Cross validation is outer loop to cleanly recycle the distances and compute all cv for certain k at once."
   ]
  },
  {
   "cell_type": "code",
   "execution_count": 14,
   "metadata": {
    "collapsed": false
   },
   "outputs": [],
   "source": [
    "from sklearn.model_selection import KFold\n",
    "n_folds = 10\n",
    "min_k = 1\n",
    "max_k = 50\n",
    "step = 5\n",
    "cv_kfold = KFold(n_folds)\n",
    "cv_avg_scores = np.zeros(10)\n",
    "for train_idx, validation_idx in cv_kfold.split(X_train):\n",
    "    dists = None\n",
    "    for k in range(min_k, max_k+1, step):\n",
    "        # avoid recomputing dists\n",
    "        pred, dists = KNearestNeighbourClassifier(X_train[train_idx], y_train[train_idx], X_train[validation_idx], k, dists)\n",
    "        cv_avg_scores[k//step] += np.count_nonzero(np.equal(pred, y_train[validation_idx]))/len(y_train)"
   ]
  },
  {
   "cell_type": "markdown",
   "metadata": {},
   "source": [
    "### Plot error rates"
   ]
  },
  {
   "cell_type": "code",
   "execution_count": 40,
   "metadata": {
    "collapsed": false
   },
   "outputs": [
    {
     "data": {
      "image/png": "[encoded data removed]",
      "text/plain": [
       "<matplotlib.figure.Figure at 0x10f804780>"
      ]
     },
     "metadata": {},
     "output_type": "display_data"
    }
   ],
   "source": [
    "error_rates = 1 - cv_avg_scores\n",
    "k_range = np.arange(min_k, max_k, step)\n",
    "min_idx = np.argmin(error_rates)\n",
    "import matplotlib.pyplot as plt\n",
    "plt.plot(k_range,error_rates)\n",
    "plt.plot(k_range[min_idx], error_rates[min_idx], 'r*')\n",
    "plt.text(k_range[min_idx], 0.09, r'best k = {}'.format(k_range[min_idx]))\n",
    "plt.xlabel('K')\n",
    "plt.ylabel('Error-Rate')\n",
    "plt.title('Error rate for K-NN with variable k')\n",
    "plt.show()"
   ]
  },
  {
   "cell_type": "markdown",
   "metadata": {},
   "source": [
    "### Validating scores make sense using sklearn"
   ]
  },
  {
   "cell_type": "code",
   "execution_count": 46,
   "metadata": {
    "collapsed": false
   },
   "outputs": [],
   "source": [
    "from sklearn.neighbors import KNeighborsClassifier\n",
    "from sklearn.model_selection import cross_val_score\n",
    "k_range = [1, 5, 11, 21, 31, 41, 51]\n",
    "means = np.zeros([len(k_range)])\n",
    "for idx, k in enumerate(k_range):\n",
    "    knn = KNeighborsClassifier(n_neighbors=k)\n",
    "    scores = cross_val_score(knn, X_train, y_train)\n",
    "    means[idx] = np.mean(scores)"
   ]
  },
  {
   "cell_type": "code",
   "execution_count": 41,
   "metadata": {
    "collapsed": true
   },
   "outputs": [],
   "source": [
    "\n",
    "k_range = [1, 5, 11, 21, 31, 41, 51]"
   ]
  },
  {
   "cell_type": "code",
   "execution_count": 42,
   "metadata": {
    "collapsed": false
   },
   "outputs": [
    {
     "name": "stdout",
     "output_type": "stream",
     "text": [
      "0 1\n",
      "1 5\n",
      "2 11\n",
      "3 21\n",
      "4 31\n",
      "5 41\n",
      "6 51\n"
     ]
    }
   ],
   "source": [
    "for i, idx in enumerate(k_range):\n",
    "    print(i, idx)"
   ]
  },
  {
   "cell_type": "code",
   "execution_count": 47,
   "metadata": {
    "collapsed": false
   },
   "outputs": [
    {
     "data": {
      "text/plain": [
       "array([ 0.91135902,  0.90536964,  0.89303216,  0.87372793,  0.85805976,\n",
       "        0.84204358,  0.82438069])"
      ]
     },
     "execution_count": 47,
     "metadata": {},
     "output_type": "execute_result"
    }
   ],
   "source": [
    "means"
   ]
  },
  {
   "cell_type": "code",
   "execution_count": null,
   "metadata": {
    "collapsed": true
   },
   "outputs": [],
   "source": []
  }
 ],
 "metadata": {
  "kernelspec": {
   "display_name": "Python 3",
   "language": "python",
   "name": "python3"
  },
  "language_info": {
   "codemirror_mode": {
    "name": "ipython",
    "version": 3
   },
   "file_extension": ".py",
   "mimetype": "text/x-python",
   "name": "python",
   "nbconvert_exporter": "python",
   "pygments_lexer": "ipython3",
   "version": "3.6.1"
  },
  "toc": {
   "nav_menu": {
    "height": "12px",
    "width": "252px"
   },
   "navigate_menu": true,
   "number_sections": false,
   "sideBar": true,
   "threshold": 4,
   "toc_cell": false,
   "toc_section_display": "block",
   "toc_window_display": false
  }
 },
 "nbformat": 4,
 "nbformat_minor": 2
}
